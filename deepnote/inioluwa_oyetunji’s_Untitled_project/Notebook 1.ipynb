{
  "cells": [
    {
      "cell_type": "code",
      "source": "!pip install --upgrade pip\n!pip install --upgrade telethon\n\nimport asyncio\nfrom telethon import TelegramClient\nfrom telethon.sessions import StringSession\n\napi_id = 20350775\napi_hash = \"394f0f01f375e1ebc1ba67d6cb0b932e\"\n\n# You need to generate a new session string, because the old one was used from multiple IPs.\n\n\n# Now, replace the old session string with the new one (session_string)\n\nsession = StringSession('1BJWap1wBu6oEscQUWx0koHjwC9VkToofacgRAly_N1wUK66CyxVnfBBD_0-ypdW6bEnr2UMORWFLZzy0hGC1EZtB4032dIMG8GfeCvBDJ7EJUkgOhMI3Of2Uc9aB-nTkijbZBS9CW-KSJXo66FGT-PVp28J6Wxh2d5fuOUPkIU5fZpBGsV1M4-zUfgEsZW04tEbSGz2P2uc1kPuz8DvHZgPS6FPKeC8bj27b3qKv5o1hErMrC9SmQX0djaxRPntoHJ4jbXNt_bsoEQ5r-6gUyCjrLRdEtT8SMTZl-MWm0PTcb5TDEb1sfh9eHd0FllHYtvrX2ZgD8c9Iu99mdJdf7bXrBJzrIfA=')\nclient = TelegramClient(session, api_id, api_hash)\nawait client.start()\n\nchat_ids = [-1002066355314, -1001960863412]\nmessage = \"calm stuff\"\n\nasync def send_message_to_multiple_chats():\n    for chat_id in chat_ids:\n        await client.send_message(chat_id, message)\n\nawait send_message_to_multiple_chats()",
      "metadata": {
        "source_hash": null,
        "execution_start": 1701922208128,
        "execution_millis": 18742,
        "deepnote_app_coordinates": {
          "h": 120,
          "w": 12,
          "x": 0,
          "y": 0
        },
        "deepnote_to_be_reexecuted": false,
        "cell_id": "78beab2466a54ee9845668169724409c",
        "deepnote_cell_type": "code"
      },
      "outputs": [
        {
          "name": "stdout",
          "text": "Requirement already satisfied: pip in /root/venv/lib/python3.9/site-packages (23.3.1)\nRequirement already satisfied: telethon in /root/venv/lib/python3.9/site-packages (1.33.0)\nRequirement already satisfied: pyaes in /root/venv/lib/python3.9/site-packages (from telethon) (1.6.1)\nRequirement already satisfied: rsa in /shared-libs/python3.9/py/lib/python3.9/site-packages (from telethon) (4.9)\nRequirement already satisfied: pyasn1>=0.1.3 in /shared-libs/python3.9/py/lib/python3.9/site-packages (from rsa->telethon) (0.4.8)\n",
          "output_type": "stream"
        }
      ],
      "execution_count": null,
      "block_group": "78beab2466a54ee9845668169724409c"
    },
    {
      "cell_type": "markdown",
      "source": "<a style='text-decoration:none;line-height:16px;display:flex;color:#5B5B62;padding:10px;justify-content:end;' href='https://deepnote.com?utm_source=created-in-deepnote-cell&projectId=ba7da8dd-2e65-41ae-bb7c-0ac92705ecf6' target=\"_blank\">\n<img alt='Created in deepnote.com' style='display:inline;max-height:16px;margin:0px;margin-right:7.5px;' src='data:image/svg+xml;base64,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' > </img>\nCreated in <span style='font-weight:600;margin-left:4px;'>Deepnote</span></a>",
      "metadata": {
        "created_in_deepnote_cell": true,
        "deepnote_cell_type": "markdown"
      }
    }
  ],
  "nbformat": 4,
  "nbformat_minor": 0,
  "metadata": {
    "deepnote": {},
    "orig_nbformat": 2,
    "deepnote_app_layout": "powerful-article",
    "deepnote_notebook_id": "cbac375eaa4f4596aa8bf2acccbc7b07",
    "deepnote_persisted_session": {
      "createdAt": "2023-12-07T04:30:26.448Z"
    },
    "deepnote_app_comments_enabled": false,
    "deepnote_app_execution_enabled": false,
    "deepnote_app_run_on_input_enabled": false,
    "deepnote_execution_queue": []
  }
}