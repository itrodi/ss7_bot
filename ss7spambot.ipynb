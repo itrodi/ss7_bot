{
  "nbformat": 4,
  "nbformat_minor": 0,
  "metadata": {
    "colab": {
      "provenance": [],
      "authorship_tag": "ABX9TyPODboCpWx2UxHVzKNE4QLh",
      "include_colab_link": true
    },
    "kernelspec": {
      "name": "python3",
      "display_name": "Python 3"
    },
    "language_info": {
      "name": "python"
    }
  },
  "cells": [
    {
      "cell_type": "markdown",
      "metadata": {
        "id": "view-in-github",
        "colab_type": "text"
      },
      "source": [
        "<a href=\"https://colab.research.google.com/github/itrodi/ss7_bot/blob/main/ss7spambot.ipynb\" target=\"_parent\"><img src=\"https://colab.research.google.com/assets/colab-badge.svg\" alt=\"Open In Colab\"/></a>"
      ]
    },
    {
      "cell_type": "code",
      "execution_count": 3,
      "metadata": {
        "colab": {
          "base_uri": "https://localhost:8080/"
        },
        "id": "2wzB1YZfMiW2",
        "outputId": "9286c9dc-3658-4196-9aee-afebd8b96c50"
      },
      "outputs": [
        {
          "output_type": "stream",
          "name": "stdout",
          "text": [
            "Requirement already satisfied: pip in /usr/local/lib/python3.10/dist-packages (23.3.1)\n",
            "\u001b[33mWARNING: Running pip as the 'root' user can result in broken permissions and conflicting behaviour with the system package manager. It is recommended to use a virtual environment instead: https://pip.pypa.io/warnings/venv\u001b[0m\u001b[33m\n",
            "\u001b[0mRequirement already satisfied: telethon in /usr/local/lib/python3.10/dist-packages (1.33.1)\n",
            "Requirement already satisfied: pyaes in /usr/local/lib/python3.10/dist-packages (from telethon) (1.6.1)\n",
            "Requirement already satisfied: rsa in /usr/local/lib/python3.10/dist-packages (from telethon) (4.9)\n",
            "Requirement already satisfied: pyasn1>=0.1.3 in /usr/local/lib/python3.10/dist-packages (from rsa->telethon) (0.5.1)\n",
            "\u001b[33mWARNING: Running pip as the 'root' user can result in broken permissions and conflicting behaviour with the system package manager. It is recommended to use a virtual environment instead: https://pip.pypa.io/warnings/venv\u001b[0m\u001b[33m\n",
            "\u001b[0m"
          ]
        }
      ],
      "source": [
        "!pip install --upgrade pip\n",
        "!pip install --upgrade telethon\n",
        "\n",
        "import asyncio\n",
        "from telethon import TelegramClient\n",
        "from telethon.sessions import StringSession\n",
        "\n",
        "api_id = 20350775\n",
        "api_hash = \"394f0f01f375e1ebc1ba67d6cb0b932e\"\n",
        "\n",
        "session = StringSession('1BJWap1wBu7BpN-scMC6pfzy-N0wcIhkCzCMBoBJXEhMRHZk-7pizCCwJtlrVgVyQr2I7FFW2RIRwX8HDK4YDKdHTXL6beHxgob1zdVb3DwUrXhoQvUJulQt6dIV5joG7w00si4Hb7aqMaJkMdg7NdjzqQbVhURaaUAuMk-4z2DoYqjawQNZHTtNCcY6n5-VSmCtrI8UuxN1kdhW-3s6V2HiqC_hEtMQiIUOpNwilGZxnX3MT6dfTWfGq9N4f4JbhGnY6XWjWOH7kApEdmB-jnNl5iO224qNJf7g1Q1xy61xkXssQ1WWy4uS_EBjl9hkHSTWPdgu5upN75f9Mk7mgnESGXuvGXm0=')\n",
        "client = TelegramClient(session, api_id, api_hash)\n",
        "await client.start()\n",
        "\n",
        "chat_ids = [-1002066355314, -1001960863412]\n",
        "message = \"All hacking and recovery of social media services\\nThis are my services \\n -Social media/ Gmail Hacking \\n-WhatsApp Account Spy/Bypass \\n-Website Database Hacking/ website clone \\n-OTP bypass bot and SS7 setup SIGPLOIT \\n-Telegram account Hacking/ -Phone/ number Hacking/cloning \\n-Spamming tutorial and tools  \\n-Laptop Hacking(Rat and ransomware) \\n-Cloud Bitcoin Mining \\n-Carding and selling Carded tools Zero-click attack or one click tech/NSO group tools /Rat \\n Note: That all transactions are via Crypto📥 \\n No under 18,INDIANS OR free service \\n T.E.X.T  ME\"\n",
        "\n",
        "async def send_message_to_multiple_chats():\n",
        "    for chat_id in chat_ids:\n",
        "        await client.send_message(chat_id, message)\n",
        "\n",
        "await send_message_to_multiple_chats()"
      ]
    }
  ]
}